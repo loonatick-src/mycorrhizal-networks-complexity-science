{
 "cells": [
  {
   "cell_type": "markdown",
   "id": "1fc1bb8b",
   "metadata": {},
   "source": [
    "#### imports"
   ]
  },
  {
   "cell_type": "code",
   "execution_count": 5,
   "id": "3d7f46fb",
   "metadata": {},
   "outputs": [],
   "source": [
    "import pandas as pd\n",
    "import networkx as nx\n",
    "import numpy as np\n",
    "from networkx.algorithms import bipartite\n",
    "import matplotlib.pyplot as plt\n",
    "import matplotlib as mpl\n",
    "import itertools\n",
    "from copy import deepcopy\n",
    "from scipy.integrate import solve_ivp\n",
    "from itertools import combinations_with_replacement\n",
    "from emn_model import (\n",
    "    get_clean_dataset, generate_bipartite_network, diffusion_dynamics, tree_project_network\n",
    ")"
   ]
  },
  {
   "cell_type": "code",
   "execution_count": 2,
   "id": "16420eeb",
   "metadata": {},
   "outputs": [],
   "source": [
    "\n",
    "\n",
    "TEX_PLOTS = True\n",
    "\n",
    "# Plotting config\n",
    "if TEX_PLOTS:\n",
    "    plt.rc(\"text\", usetex=True)\n",
    "    plt.rc(\"font\", family=\"serif\")\n",
    "    plt.rc(\"text.latex\", preamble=r\"\"\"\n",
    "         \\usepackage{times}\n",
    "         \\usepackage{mathptmx}\n",
    "         \\usepackage{siunitx}\"\"\")\n",
    "else:\n",
    "    plt.rc(\"text\", usetex=False)\n",
    "\n",
    "mpl.rcParams[\"figure.dpi\"] = 200\n",
    "mpl.rcParams[\"legend.fontsize\"] = 14\n",
    "mpl.rcParams[\"font.size\"] = 14\n",
    "mpl.rcParams[\"axes.labelsize\"] = mpl.rcParams[\"axes.titlesize\"] = 16\n",
    "mpl.rcParams[\"axes.grid\"] = True\n",
    "mpl.rcParams[\"grid.alpha\"] = 0.2\n",
    "mpl.rcParams[\"axes.axisbelow\"] = True\n",
    "mpl.rcParams[\"lines.linewidth\"] = 1\n",
    "\n",
    "cmap = mpl.cm.get_cmap(\"Dark2\")\n",
    "mpl.rcParams[\"axes.prop_cycle\"] = mpl.cycler(color=cmap.colors)\n",
    "\n",
    "np.random.seed(1231)"
   ]
  },
  {
   "cell_type": "markdown",
   "id": "139e4d39",
   "metadata": {},
   "source": [
    "# Background"
   ]
  },
  {
   "cell_type": "markdown",
   "id": "ecb4389b",
   "metadata": {},
   "source": [
    "### Tree classification\n",
    "\n",
    "I have removed the cohorts and group them by diameter. The groups are based on their diameter, which signifies their relative age-group. \n",
    "\n",
    "* Saplings (young trees): 0 $<$ d $\\le$ 15, diameter sizes\n",
    "* Maturing trees: 15$<$ d $\\le$ 35, diameter sizes\n",
    "* Old trees: 35$<$ d, diameter sizes \n",
    "\n",
    "It the current data-set the diameters range from $0.56$ to $53$ diameter sizes. It might be a good idea to sample between $1$ and $55$ (but whatever works). "
   ]
  },
  {
   "cell_type": "markdown",
   "id": "ac6a14fa",
   "metadata": {},
   "source": [
    "### Macro-statistics"
   ]
  },
  {
   "cell_type": "markdown",
   "id": "3ca24c0d",
   "metadata": {},
   "source": [
    "The main interest of our model is to what extent older trees (with more resources) are capable of facilitating the success of young trees in terms of carbon transfer. I have thought of a few macro-statistics, but please feel free to add more.  \n",
    "\n",
    "#### Sapling Succes \n",
    "\n",
    "We do not have mortality in our model, so we have to define succes ourselves.\n",
    "\n",
    "Considering the sapling group, a sapling is succesful when: \n",
    "* Succesful: diameter grew at least 2x in size. Above or equal $200\\%$ growth. \n",
    "* Unsuccesful: diameter grew less than 2x in size. Below $200\\%$ growth. \n",
    "\n",
    "(below I will add the code to extract these dynamics)\n",
    "\n",
    "\n",
    "#### Sapling Competition\n",
    "\n",
    "In our model some saplings are way better growers than others, regardless of size. This is potentially due to its connections. Hence, a measure that resembles this competition will be nice.\n",
    "\n",
    "Measure of competition (Among samplings): \n",
    "* Standard deviation of the growth percentage. \n",
    "\n",
    "\n",
    "#### Nutrient diffusion\n",
    "?? any ideas? Something about how well and far nutrients can diffuse? "
   ]
  },
  {
   "cell_type": "markdown",
   "id": "69c451dd",
   "metadata": {},
   "source": [
    "# Results"
   ]
  },
  {
   "cell_type": "markdown",
   "id": "9fecf90f",
   "metadata": {},
   "source": [
    "#### Initialization of the network."
   ]
  },
  {
   "cell_type": "code",
   "execution_count": 3,
   "id": "931cebdc",
   "metadata": {},
   "outputs": [],
   "source": [
    "df = get_clean_dataset()\n",
    "B = generate_bipartite_network(df)\n",
    "G = tree_project_network(B)"
   ]
  },
  {
   "cell_type": "code",
   "execution_count": 4,
   "id": "c567adf1",
   "metadata": {},
   "outputs": [
    {
     "data": {
      "text/plain": [
       "NodeView((2, 3, 4, 5, 6, 7, 8, 9, 10, 11, 12, 13, 14, 15, 16, 17, 18, 19, 20, 21, 22, 23, 24, 25, 27, 30, 31, 35, 40, 41, 44, 49, 50, 51, 52, 53, 54, 55, 56, 57, 59, 62, 64, 69, 74, 75, 81, 83, 85, 86, 87, 88, 89, 90, 91))"
      ]
     },
     "execution_count": 4,
     "metadata": {},
     "output_type": "execute_result"
    }
   ],
   "source": [
    "G.nodes"
   ]
  },
  {
   "cell_type": "code",
   "execution_count": null,
   "id": "121cc0e0",
   "metadata": {},
   "outputs": [],
   "source": []
  }
 ],
 "metadata": {
  "kernelspec": {
   "display_name": "Python 3 (ipykernel)",
   "language": "python",
   "name": "python3"
  },
  "language_info": {
   "codemirror_mode": {
    "name": "ipython",
    "version": 3
   },
   "file_extension": ".py",
   "mimetype": "text/x-python",
   "name": "python",
   "nbconvert_exporter": "python",
   "pygments_lexer": "ipython3",
   "version": "3.8.12"
  }
 },
 "nbformat": 4,
 "nbformat_minor": 5
}
