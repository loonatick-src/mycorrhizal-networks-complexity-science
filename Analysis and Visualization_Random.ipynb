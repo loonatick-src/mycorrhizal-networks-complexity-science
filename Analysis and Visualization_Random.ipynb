{
 "cells": [
  {
   "cell_type": "code",
   "execution_count": null,
   "id": "e5434792",
   "metadata": {},
   "outputs": [],
   "source": [
    "import os\n",
    "import sys\n",
    "\n",
    "WORKING_DIR = os.getcwd()\n",
    "SRC_DIR = \"scripts\"\n",
    "sys.path.insert(0, f\"{WORKING_DIR}/{SRC_DIR}\")"
   ]
  },
  {
   "cell_type": "code",
   "execution_count": null,
   "id": "31e2273d",
   "metadata": {},
   "outputs": [],
   "source": [
    "import pandas as pd\n",
    "import networkx as nx\n",
    "import numpy as np\n",
    "from networkx.algorithms import bipartite\n",
    "import matplotlib.pyplot as plt\n",
    "import matplotlib as mpl\n",
    "import itertools\n",
    "from copy import deepcopy\n",
    "from scipy.integrate import solve_ivp\n",
    "from itertools import combinations_with_replacement\n",
    "from emn_model import (\n",
    "    get_clean_dataset, generate_bipartite_network, diffusion_dynamics, tree_project_network\n",
    ")\n",
    "from forest_generator import generate_random_graph"
   ]
  },
  {
   "cell_type": "markdown",
   "id": "b0dc3ca6",
   "metadata": {},
   "source": [
    "#### Visualization"
   ]
  },
  {
   "cell_type": "code",
   "execution_count": null,
   "id": "918bb260",
   "metadata": {},
   "outputs": [],
   "source": [
    "TEX_PLOTS = False\n",
    "\n",
    "# Plotting config\n",
    "if TEX_PLOTS:\n",
    "    plt.rc(\"text\", usetex=True)\n",
    "    plt.rc(\"font\", family=\"serif\")\n",
    "    plt.rc(\"text.latex\", preamble=r\"\"\"\n",
    "         \\usepackage{times}\n",
    "         \\usepackage{mathptmx}\n",
    "         \\usepackage{siunitx}\"\"\")\n",
    "else:\n",
    "    plt.rc(\"text\", usetex=False)\n",
    "\n",
    "mpl.rcParams[\"figure.dpi\"] = 200\n",
    "mpl.rcParams[\"legend.fontsize\"] = 14\n",
    "mpl.rcParams[\"font.size\"] = 14\n",
    "mpl.rcParams[\"axes.labelsize\"] = mpl.rcParams[\"axes.titlesize\"] = 16\n",
    "mpl.rcParams[\"axes.grid\"] = True\n",
    "mpl.rcParams[\"grid.alpha\"] = 0.2\n",
    "mpl.rcParams[\"axes.axisbelow\"] = True\n",
    "mpl.rcParams[\"lines.linewidth\"] = 1\n",
    "\n",
    "cmap = mpl.cm.get_cmap(\"Dark2\")\n",
    "mpl.rcParams[\"axes.prop_cycle\"] = mpl.cycler(color=cmap.colors)\n",
    "\n",
    "np.random.seed(1231)"
   ]
  },
  {
   "cell_type": "markdown",
   "id": "e633bcf0",
   "metadata": {},
   "source": [
    "# Results Random network"
   ]
  },
  {
   "cell_type": "markdown",
   "id": "595a906c",
   "metadata": {},
   "source": [
    "### Initialization of the network."
   ]
  },
  {
   "cell_type": "code",
   "execution_count": null,
   "id": "702e4a85",
   "metadata": {},
   "outputs": [],
   "source": [
    "G = generate_random_graph(200, p=0.5)"
   ]
  },
  {
   "cell_type": "code",
   "execution_count": null,
   "id": "122549f5",
   "metadata": {},
   "outputs": [],
   "source": [
    "N = len(G.nodes)\n",
    "\n",
    "plant_carbon_0 = np.array(list(nx.get_node_attributes(G, \"carbon_value\").values()))\n",
    "root_carbon_0 = 0.1 * plant_carbon_0\n",
    "plant_diameter_0 = np.array(list(nx.get_node_attributes(G, \"diameter\").values()))\n",
    "\n",
    "t_range = (0, 16_000)\n",
    "D_C = 5.0e-4 # carbon diffusion coeff\n",
    "uptake_ps = (0.55, 0.0, 55.0)\n",
    "f = 5.0e-4 # sensitive w.r.t plant carbon deposition\n",
    "k = 0.6\n",
    "g = 0.004\n",
    "c = 0.82\n",
    "rho = 0.01\n",
    "\n",
    "sol = solve_ivp(diffusion_dynamics, t_range, np.concatenate([root_carbon_0, plant_carbon_0, plant_diameter_0]),\n",
    "                args=(G, D_C, N, uptake_ps, f, k, c, g, rho), dense_output=True, method=\"BDF\")\n",
    "\n",
    "time_steps = 300\n",
    "t = np.linspace(t_range[0], t_range[1], time_steps)\n",
    "z = sol.sol(t)\n",
    "\n",
    "#Rename the quantities of interest\n",
    "roots_carbon, plant_carbon, plant_diameter = z[:N, :], z[N:2*N, :], z[2*N:3*N, :] "
   ]
  },
  {
   "cell_type": "code",
   "execution_count": null,
   "id": "db2b69e2",
   "metadata": {},
   "outputs": [],
   "source": [
    "nodes_by_cohort = {\"Sapling\": [], \"Maturing\": [], \"Established\": []}\n",
    "node_list = list(G.nodes)\n",
    "\n",
    "for node in G.nodes:\n",
    "    nodes_by_cohort[G.nodes[node][\"cohort\"]].append(node)"
   ]
  },
  {
   "cell_type": "markdown",
   "id": "67c68663",
   "metadata": {},
   "source": [
    "### Group information"
   ]
  },
  {
   "cell_type": "code",
   "execution_count": null,
   "id": "de5b0df5",
   "metadata": {},
   "outputs": [],
   "source": [
    "success_threshold = 5"
   ]
  },
  {
   "cell_type": "code",
   "execution_count": null,
   "id": "0f75c4f2",
   "metadata": {},
   "outputs": [],
   "source": [
    "for cohort, nodes in nodes_by_cohort.items():\n",
    "    \n",
    "    node_idxs = [node_list.index(node) for node in nodes]\n",
    "    \n",
    "    #Calculate Average growth\n",
    "    growth = plant_diameter[node_idxs, -1] - plant_diameter[node_idxs, 0]\n",
    "    avg_growth = np.mean(growth)\n",
    "    \n",
    "    #Calculate growth in percantages\n",
    "    percentages = plant_diameter[node_idxs, -1]/plant_diameter[node_idxs, 0]*100\n",
    "    percentage_mean = np.mean(percentages)\n",
    "    percentage_stdev = np.std(percentages)\n",
    "\n",
    "\n",
    "    print(f\"Cohort {str(cohort)} grew on average {avg_growth:.2f} cm\")\n",
    "    print(f\"Cohort {str(cohort)} grew on average {percentage_mean:.2f}% +- {percentage_stdev:.2f}\")\n",
    "    \n",
    "    if cohort == \"Sapling\": \n",
    "        success_threshold = np.max(growth)/2\n",
    "        n_successes =  np.sum([growth >= success_threshold])     #np.sum([percentages >= 200])\n",
    "        print(\"\\n #### Sapling statistics #######\")\n",
    "        print(f\"Sapling competition between samplings (std growth percentage) {percentage_stdev:.2f}%\")\n",
    "        print(f\"{n_successes} out of the {len(percentages)} Saplings were successful. That is {n_successes/len(percentages)*100:.2f}%\")\n",
    "\n",
    "        \n",
    "    #print(percentages)\n",
    "\n",
    "    fig, axes = plt.subplots(nrows=1, ncols=3, figsize=(10, 3.5), dpi=200)\n",
    "\n",
    "    axes[0].set_title(\"Roots Carbon\")\n",
    "    axes[0].plot(t, roots_carbon[node_idxs, :].T, linewidth=0.5)\n",
    "    axes[0].set_xlabel(\"$t$\")\n",
    "    axes[0].set_ylabel(\"Carbon [g]\")\n",
    "\n",
    "    axes[1].set_title(\"Plant Carbon\")\n",
    "    axes[1].plot(t, plant_carbon[node_idxs, :].T, linewidth=0.5)\n",
    "    axes[1].set_xlabel(\"$t$\")\n",
    "    axes[1].set_ylabel(\"Carbon [g]\")\n",
    "\n",
    "    axes[2].set_title(\"Plant diameter\")\n",
    "    axes[2].plot(t, plant_diameter[node_idxs, :].T, linewidth=0.5)\n",
    "    axes[2].set_xlabel(\"$t$\")\n",
    "    axes[2].set_ylabel(\"Diameter [cm]\")\n",
    "\n",
    "    plt.tight_layout()\n",
    "    plt.show()"
   ]
  },
  {
   "cell_type": "markdown",
   "id": "147c29fd",
   "metadata": {},
   "source": [
    "### Nutrient flows"
   ]
  },
  {
   "cell_type": "code",
   "execution_count": null,
   "id": "6ee81481",
   "metadata": {
    "scrolled": false
   },
   "outputs": [],
   "source": [
    "roots_carbon_per_cohort = {}\n",
    "plant_carbon_per_cohort = {}\n",
    "plant_diameter_per_cohort = {}\n",
    "\n",
    "\n",
    "for cohort, nodes in nodes_by_cohort.items():\n",
    "    \n",
    "    node_idxs = [node_list.index(node) for node in nodes]\n",
    "    \n",
    "    #not sure if total diameter makes sense, but currently included to show growth. \n",
    "    total_diameter = np.sum(plant_diameter[node_idxs, :], axis = 0)\n",
    "    total_plant_carbon = np.sum(plant_carbon[node_idxs, :], axis = 0)\n",
    "    totaL_root_carbon  = np.sum(roots_carbon[node_idxs, :], axis = 0)\n",
    "    \n",
    "    roots_carbon_per_cohort[cohort] = totaL_root_carbon\n",
    "    plant_carbon_per_cohort[cohort] = total_plant_carbon\n",
    "    plant_diameter_per_cohort[cohort] = total_diameter\n",
    "    \n",
    "\n",
    "fig, axes = plt.subplots(nrows=1, ncols=3, figsize=(10, 3.5), dpi=200)\n",
    "\n",
    "axes[0].set_title(\"Roots Carbon\")\n",
    "axes[0].stackplot(t, np.array(list(roots_carbon_per_cohort.values())))\n",
    "axes[0].legend(labels = np.array(list(roots_carbon_per_cohort.keys())))\n",
    "axes[0].set_ylabel(\"Carbon [g]\")\n",
    "axes[0].set_xlabel(\"$t$\")\n",
    "\n",
    "\n",
    "axes[1].set_title(\"Plant Carbon\")\n",
    "axes[1].stackplot(t, np.array(list(plant_carbon_per_cohort.values())))\n",
    "axes[1].legend(labels = np.array(list(plant_carbon_per_cohort.keys())))\n",
    "axes[1].set_ylabel(\"Carbon [g]\")\n",
    "axes[1].set_xlabel(\"$t$\")\n",
    "\n",
    "\n",
    "axes[2].set_title(\"Biomass (???)\")\n",
    "axes[2].stackplot(t, np.array(list(plant_diameter_per_cohort.values())))\n",
    "axes[2].legend(labels = np.array(list(plant_diameter_per_cohort.keys())))\n",
    "axes[2].set_ylabel(\"Diameter [cm]\")\n",
    "axes[2].set_xlabel(\"$t$\")\n",
    "\n",
    " \n",
    "plt.tight_layout()\n",
    "plt.show()"
   ]
  }
 ],
 "metadata": {
  "@webio": {
   "lastCommId": null,
   "lastKernelId": null
  },
  "kernelspec": {
   "display_name": "Python 3 (ipykernel)",
   "language": "python",
   "name": "python3"
  },
  "language_info": {
   "codemirror_mode": {
    "name": "ipython",
    "version": 3
   },
   "file_extension": ".py",
   "mimetype": "text/x-python",
   "name": "python",
   "nbconvert_exporter": "python",
   "pygments_lexer": "ipython3",
   "version": "3.8.10"
  },
  "vscode": {
   "interpreter": {
    "hash": "b0fa6594d8f4cbf19f97940f81e996739fb7646882a419484c72d19e05852a7e"
   }
  }
 },
 "nbformat": 4,
 "nbformat_minor": 5
}
